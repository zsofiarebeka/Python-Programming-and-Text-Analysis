{
 "cells": [
  {
   "cell_type": "markdown",
   "id": "abebe15c-34c3-4f33-83cc-0404da82af7a",
   "metadata": {},
   "source": [
    "# Fuzzy Text Matching"
   ]
  },
  {
   "cell_type": "markdown",
   "id": "a2cebc6e-593b-4feb-9a87-837c6c6ec313",
   "metadata": {},
   "source": [
    "### Prerequisities\n",
    "- Install the Python package `thefuzz` in your favourate package manager"
   ]
  },
  {
   "cell_type": "code",
   "execution_count": 1,
   "id": "aaa035bb-651e-40b0-9326-f9b973b77bee",
   "metadata": {
    "tags": []
   },
   "outputs": [
    {
     "name": "stdout",
     "output_type": "stream",
     "text": [
      "Defaulting to user installation because normal site-packages is not writeable\n",
      "Requirement already satisfied: thefuzz in c:\\users\\zsófi\\appdata\\roaming\\python\\python311\\site-packages (0.22.1)\n",
      "Requirement already satisfied: rapidfuzz<4.0.0,>=3.0.0 in c:\\users\\zsófi\\appdata\\roaming\\python\\python311\\site-packages (from thefuzz) (3.6.2)\n"
     ]
    }
   ],
   "source": [
    "!pip install thefuzz"
   ]
  },
  {
   "cell_type": "markdown",
   "id": "595e5ee0-6bd7-4f7f-86d7-affed523b45e",
   "metadata": {},
   "source": [
    "Is Vienna the same as Wien, or Vienna, AT, Bécs?"
   ]
  },
  {
   "cell_type": "markdown",
   "id": "bf345b3a-385e-4967-bd50-0733684c326d",
   "metadata": {},
   "source": [
    "## Applications\n",
    "- Cities on Github\n",
    "- Cities on CVs\n",
    "- Company names\n",
    "- Public agency names\n",
    "- Person names"
   ]
  },
  {
   "cell_type": "markdown",
   "id": "1b7bcb19-bcd7-4b6b-8976-3f44ec1c36c4",
   "metadata": {},
   "source": [
    "## Reading"
   ]
  },
  {
   "cell_type": "code",
   "execution_count": 11,
   "id": "0f36c9a2-f9cd-47a0-8052-195190b5aad2",
   "metadata": {
    "tags": []
   },
   "outputs": [
    {
     "name": "stdout",
     "output_type": "stream",
     "text": [
      "['A', 'a', 'aa', 'aal', 'aalii', 'aam', 'Aani', 'aardvark', 'aardwolf', 'Aaron']\n"
     ]
    }
   ],
   "source": [
    "from nltk.corpus import words\n",
    "word_list = words.words()\n",
    "print(word_list[:10])"
   ]
  },
  {
   "cell_type": "code",
   "execution_count": 16,
   "id": "e8ae8434-0a16-41c9-acdc-2d40e335b71b",
   "metadata": {
    "tags": []
   },
   "outputs": [
    {
     "data": {
      "text/plain": [
       "236736"
      ]
     },
     "execution_count": 16,
     "metadata": {},
     "output_type": "execute_result"
    }
   ],
   "source": [
    "len(word_list)"
   ]
  },
  {
   "cell_type": "code",
   "execution_count": 19,
   "id": "b26d124b-4907-48f0-b0ad-1f5d39c20732",
   "metadata": {
    "tags": []
   },
   "outputs": [],
   "source": [
    "def find_word(word_list, word):\n",
    "    for candidate in word_list:\n",
    "        if candidate == word:\n",
    "            return candidate\n",
    "    return None"
   ]
  },
  {
   "cell_type": "code",
   "execution_count": 23,
   "id": "1255e08f-a489-4671-9e28-4f8b4273e6e7",
   "metadata": {
    "tags": []
   },
   "outputs": [],
   "source": [
    "result = find_word(word_list, \"whiskye\")"
   ]
  },
  {
   "cell_type": "code",
   "execution_count": 24,
   "id": "1857ff10-545f-4e16-98e7-b3196538affb",
   "metadata": {
    "tags": []
   },
   "outputs": [
    {
     "name": "stdout",
     "output_type": "stream",
     "text": [
      "None\n"
     ]
    }
   ],
   "source": [
    "print(result)"
   ]
  },
  {
   "cell_type": "code",
   "execution_count": 25,
   "id": "f7a42519-2486-45bf-b837-a8707572036e",
   "metadata": {
    "tags": []
   },
   "outputs": [],
   "source": [
    "from thefuzz import fuzz"
   ]
  },
  {
   "cell_type": "markdown",
   "id": "7bb35884-2dc9-4d7b-9a8f-e189ce9a788b",
   "metadata": {},
   "source": [
    "## Distance metric of strings\n",
    "Take x and y. Distance is 0 if x=y, increasing in some \"natural\" metric of distance. What Lavenshtein distance does: edit distance. How many characters you have to edit to go from the mistypes version to the correct one?\n",
    "\n",
    "## Lavenshtein\n",
    "How many characters do you have to ass/delete/change in x to get y?\n",
    "\n",
    "`lavenshtein ('whisky', 'whiskey') = 1`\n",
    "`lavenshtein('whiskey', 'whiskye') = 2`"
   ]
  },
  {
   "cell_type": "code",
   "execution_count": 26,
   "id": "09d998a5-0500-42d7-8e7e-9f7f356e7f34",
   "metadata": {
    "tags": []
   },
   "outputs": [
    {
     "data": {
      "text/plain": [
       "92"
      ]
     },
     "execution_count": 26,
     "metadata": {},
     "output_type": "execute_result"
    }
   ],
   "source": [
    "# the max ratio is 100\n",
    "fuzz.ratio(\"whisky\", 'whiskey')\n",
    "# normalizing the distance would be - that's a perfect match"
   ]
  },
  {
   "cell_type": "code",
   "execution_count": 32,
   "id": "20f849d9-2c87-4b2e-a6e5-27ed207334eb",
   "metadata": {
    "tags": []
   },
   "outputs": [
    {
     "data": {
      "text/plain": [
       "0.9230769230769231"
      ]
     },
     "execution_count": 32,
     "metadata": {},
     "output_type": "execute_result"
    }
   ],
   "source": [
    "# Comparing the total number of characters over the two words\n",
    "1- 1 / (len('whiskey') +len('whisky'))"
   ]
  },
  {
   "cell_type": "code",
   "execution_count": 31,
   "id": "400c55ea-470f-4f38-9019-33ce5a96621a",
   "metadata": {
    "tags": []
   },
   "outputs": [
    {
     "data": {
      "text/plain": [
       "75"
      ]
     },
     "execution_count": 31,
     "metadata": {},
     "output_type": "execute_result"
    }
   ],
   "source": [
    "fuzz.ratio(\"app\", 'apple')\n",
    "# 75 is still high, but lower than whisky and whiskey"
   ]
  },
  {
   "cell_type": "code",
   "execution_count": 33,
   "id": "ff505c63-436a-426f-9a0c-0a061adf4887",
   "metadata": {
    "tags": []
   },
   "outputs": [],
   "source": [
    "def find_word_fuzzy(word_list, word):\n",
    "    best_match = None\n",
    "    # the best lavenhstein score is the lowest\n",
    "    best_score = 0\n",
    "    for candidate in word_list:\n",
    "        score = fuzz.ratio(candidate, word)\n",
    "        if score > best_score:\n",
    "            best_match = candidate\n",
    "            best_score = score\n",
    "    return best_match"
   ]
  },
  {
   "cell_type": "code",
   "execution_count": 44,
   "id": "96181348-cf93-49bc-a1cb-fe26576bcfe9",
   "metadata": {
    "tags": []
   },
   "outputs": [
    {
     "name": "stdout",
     "output_type": "stream",
     "text": [
      "whisky\n"
     ]
    }
   ],
   "source": [
    "result = find_word_fuzzy(word_list, 'whiskye')\n",
    "print(result)"
   ]
  },
  {
   "cell_type": "code",
   "execution_count": 48,
   "id": "07ab9e68-81c8-4267-a327-e7c55f5661de",
   "metadata": {
    "tags": []
   },
   "outputs": [
    {
     "data": {
      "text/plain": [
       "'lina'"
      ]
     },
     "execution_count": 48,
     "metadata": {},
     "output_type": "execute_result"
    }
   ],
   "source": [
    "find_word_fuzzy(word_list, 'pálinka')"
   ]
  },
  {
   "cell_type": "markdown",
   "id": "51f05537-a63d-455c-8a20-db958d08b792",
   "metadata": {},
   "source": [
    "## Resources\n",
    "- thefuzz\n",
    "- unidecode\n",
    "\n",
    "They transliterate, such as removing the accent or changing the Greek or Cirillic letters to latin characters."
   ]
  },
  {
   "cell_type": "code",
   "execution_count": 50,
   "id": "e9509fb1-bd6f-4f81-ad82-92e27ebcdc36",
   "metadata": {
    "tags": []
   },
   "outputs": [
    {
     "name": "stdout",
     "output_type": "stream",
     "text": [
      "215 ms ± 37.9 ms per loop (mean ± std. dev. of 7 runs, 1 loop each)\n"
     ]
    }
   ],
   "source": [
    "%timeit find_word_fuzzy(word_list, 'whiskye')"
   ]
  },
  {
   "cell_type": "markdown",
   "id": "76d405fc-53f9-4772-953b-f14fcaa376d8",
   "metadata": {},
   "source": [
    "How much is 87 ms? Say 6 million users, comparing against 300k city names. How long will it take?\n",
    "$$\n",
    "6 x 10^6 *87 * 10^(3)\n",
    "$$\n",
    "\n",
    "$$\n",
    "145000000 hours --> 6 days\n",
    "$$\n",
    "\n",
    "This is unbearably slow.\n",
    "For $N$ queries among $K$ words, this takes $= N x K$ times.\n",
    "\n",
    "## Binary search\n",
    "\n",
    "All variantes complete, on average, in $N\\times\\log(K)$ times.\n",
    "\n",
    "## Hash tables\n",
    "A Python dictionary is a hash table for keys. The key of the dict is converted into a \"hash\" by a crypto. Lookup by key takes $\\approx 1$"
   ]
  },
  {
   "cell_type": "code",
   "execution_count": 52,
   "id": "0a797d4a-442c-43af-9d59-672596e2e267",
   "metadata": {
    "tags": []
   },
   "outputs": [],
   "source": [
    "N = len(word_list)"
   ]
  },
  {
   "cell_type": "code",
   "execution_count": 55,
   "id": "ae36acf3-9822-4f48-9b4d-ec16fce28ae2",
   "metadata": {
    "tags": []
   },
   "outputs": [
    {
     "data": {
      "text/plain": [
       "'monatomicity'"
      ]
     },
     "execution_count": 55,
     "metadata": {},
     "output_type": "execute_result"
    }
   ],
   "source": [
    "# Monatomicity is the middle word\n",
    "word_list[N//2]"
   ]
  },
  {
   "cell_type": "code",
   "execution_count": 56,
   "id": "8e11965f-7dda-42d8-9cb9-22450349c4a4",
   "metadata": {
    "tags": []
   },
   "outputs": [
    {
     "data": {
      "text/plain": [
       "'eburnification'"
      ]
     },
     "execution_count": 56,
     "metadata": {},
     "output_type": "execute_result"
    }
   ],
   "source": [
    "# It's at the 25th percentile\n",
    "word_list[N//4]"
   ]
  },
  {
   "cell_type": "code",
   "execution_count": 58,
   "id": "117d0933-4e16-4289-b7e2-7674ca345462",
   "metadata": {
    "tags": []
   },
   "outputs": [],
   "source": [
    "# Hash table\n",
    "word_dictionary = {k: '' for k in word_list}"
   ]
  },
  {
   "cell_type": "code",
   "execution_count": 59,
   "id": "a5cc8007-cfe4-41a7-a92a-e69a0bc050c3",
   "metadata": {
    "tags": []
   },
   "outputs": [
    {
     "data": {
      "text/plain": [
       "235892"
      ]
     },
     "execution_count": 59,
     "metadata": {},
     "output_type": "execute_result"
    }
   ],
   "source": [
    "# In the dictionary, the word is a key\n",
    "len(word_dictionary)"
   ]
  },
  {
   "cell_type": "code",
   "execution_count": 60,
   "id": "50e20dd1-8a6f-4f56-97f7-847db4e5d589",
   "metadata": {
    "tags": []
   },
   "outputs": [
    {
     "name": "stdout",
     "output_type": "stream",
     "text": [
      "4.84 ms ± 613 µs per loop (mean ± std. dev. of 7 runs, 100 loops each)\n"
     ]
    }
   ],
   "source": [
    "%timeit 'whisky' in word_list"
   ]
  },
  {
   "cell_type": "code",
   "execution_count": 63,
   "id": "a31b5538-6495-4882-a531-2445ce421330",
   "metadata": {
    "tags": []
   },
   "outputs": [
    {
     "name": "stdout",
     "output_type": "stream",
     "text": [
      "53.8 ns ± 3.06 ns per loop (mean ± std. dev. of 7 runs, 10,000,000 loops each)\n"
     ]
    }
   ],
   "source": [
    "%timeit 'whisky' in word_dictionary"
   ]
  },
  {
   "cell_type": "code",
   "execution_count": 66,
   "id": "9f8d611b-1886-40b6-814c-b5086dbfb699",
   "metadata": {
    "tags": []
   },
   "outputs": [],
   "source": [
    "letters = 'abcdefghijklopqrstuvwxyz'\n",
    "words_by_first_letter = dict()\n",
    "for word in word_list:\n",
    "    first_letter = word[0].lower()\n",
    "    if first_letter in words_by_first_letter:\n",
    "        words_by_first_letter[first_letter].append(word)\n",
    "    else:\n",
    "        words_by_first_letter[first_letter] = [word]"
   ]
  },
  {
   "cell_type": "code",
   "execution_count": 67,
   "id": "4a8b8647-5680-4e27-83b8-07496744a403",
   "metadata": {
    "tags": []
   },
   "outputs": [
    {
     "data": {
      "text/plain": [
       "1157"
      ]
     },
     "execution_count": 67,
     "metadata": {},
     "output_type": "execute_result"
    }
   ],
   "source": [
    "len(words_by_first_letter['q'])"
   ]
  },
  {
   "cell_type": "code",
   "execution_count": 69,
   "id": "1b90e5fb-9aaa-45fb-84cd-2358def1a069",
   "metadata": {
    "scrolled": true,
    "tags": []
   },
   "outputs": [
    {
     "data": {
      "text/plain": [
       "['Q',\n",
       " 'q',\n",
       " 'qasida',\n",
       " 'qere',\n",
       " 'qeri',\n",
       " 'qintar',\n",
       " 'Qoheleth',\n",
       " 'qoph',\n",
       " 'qua',\n",
       " 'quab',\n",
       " 'quabird',\n",
       " 'quachil',\n",
       " 'quack',\n",
       " 'quackery',\n",
       " 'quackhood',\n",
       " 'quackish',\n",
       " 'quackishly',\n",
       " 'quackishness',\n",
       " 'quackism',\n",
       " 'quackle',\n",
       " 'quacksalver',\n",
       " 'quackster',\n",
       " 'quacky',\n",
       " 'quad',\n",
       " 'quadded',\n",
       " 'quaddle',\n",
       " 'Quader',\n",
       " 'Quadi',\n",
       " 'quadmeter',\n",
       " 'quadra',\n",
       " 'quadrable',\n",
       " 'quadragenarian',\n",
       " 'quadragenarious',\n",
       " 'Quadragesima',\n",
       " 'quadragesimal',\n",
       " 'quadragintesimal',\n",
       " 'quadral',\n",
       " 'quadrangle',\n",
       " 'quadrangled',\n",
       " 'quadrangular',\n",
       " 'quadrangularly',\n",
       " 'quadrangularness',\n",
       " 'quadrangulate',\n",
       " 'quadrans',\n",
       " 'quadrant',\n",
       " 'quadrantal',\n",
       " 'quadrantes',\n",
       " 'Quadrantid',\n",
       " 'quadrantile',\n",
       " 'quadrantlike',\n",
       " 'quadrantly',\n",
       " 'quadrat',\n",
       " 'quadrate',\n",
       " 'quadrated',\n",
       " 'quadrateness',\n",
       " 'quadratic',\n",
       " 'quadratical',\n",
       " 'quadratically',\n",
       " 'quadratics',\n",
       " 'Quadratifera',\n",
       " 'quadratiferous',\n",
       " 'quadratojugal',\n",
       " 'quadratomandibular',\n",
       " 'quadratosquamosal',\n",
       " 'quadratrix',\n",
       " 'quadratum',\n",
       " 'quadrature',\n",
       " 'quadratus',\n",
       " 'quadrauricular',\n",
       " 'quadrennia',\n",
       " 'quadrennial',\n",
       " 'quadrennially',\n",
       " 'quadrennium',\n",
       " 'quadriad',\n",
       " 'quadrialate',\n",
       " 'quadriannulate',\n",
       " 'quadriarticulate',\n",
       " 'quadriarticulated',\n",
       " 'quadribasic',\n",
       " 'quadric',\n",
       " 'quadricapsular',\n",
       " 'quadricapsulate',\n",
       " 'quadricarinate',\n",
       " 'quadricellular',\n",
       " 'quadricentennial',\n",
       " 'quadriceps',\n",
       " 'quadrichord',\n",
       " 'quadriciliate',\n",
       " 'quadricinium',\n",
       " 'quadricipital',\n",
       " 'quadricone',\n",
       " 'quadricorn',\n",
       " 'quadricornous',\n",
       " 'quadricostate',\n",
       " 'quadricotyledonous',\n",
       " 'quadricovariant',\n",
       " 'quadricrescentic',\n",
       " 'quadricrescentoid',\n",
       " 'quadricuspid',\n",
       " 'quadricuspidal',\n",
       " 'quadricuspidate',\n",
       " 'quadricycle',\n",
       " 'quadricycler',\n",
       " 'quadricyclist',\n",
       " 'quadridentate',\n",
       " 'quadridentated',\n",
       " 'quadriderivative',\n",
       " 'quadridigitate',\n",
       " 'quadriennial',\n",
       " 'quadriennium',\n",
       " 'quadrienniumutile',\n",
       " 'quadrifarious',\n",
       " 'quadrifariously',\n",
       " 'quadrifid',\n",
       " 'quadrifilar',\n",
       " 'quadrifocal',\n",
       " 'quadrifoil',\n",
       " 'quadrifoliate',\n",
       " 'quadrifoliolate',\n",
       " 'quadrifolious',\n",
       " 'quadrifolium',\n",
       " 'quadriform',\n",
       " 'quadrifrons',\n",
       " 'quadrifrontal',\n",
       " 'quadrifurcate',\n",
       " 'quadrifurcated',\n",
       " 'quadrifurcation',\n",
       " 'quadriga',\n",
       " 'quadrigabled',\n",
       " 'quadrigamist',\n",
       " 'quadrigate',\n",
       " 'quadrigatus',\n",
       " 'quadrigeminal',\n",
       " 'quadrigeminate',\n",
       " 'quadrigeminous',\n",
       " 'quadrigeminum',\n",
       " 'quadrigenarious',\n",
       " 'quadriglandular',\n",
       " 'quadrihybrid',\n",
       " 'quadrijugal',\n",
       " 'quadrijugate',\n",
       " 'quadrijugous',\n",
       " 'quadrilaminar',\n",
       " 'quadrilaminate',\n",
       " 'quadrilateral',\n",
       " 'quadrilaterally',\n",
       " 'quadrilateralness',\n",
       " 'quadrilingual',\n",
       " 'quadriliteral',\n",
       " 'quadrille',\n",
       " 'quadrilled',\n",
       " 'quadrillion',\n",
       " 'quadrillionth',\n",
       " 'quadrilobate',\n",
       " 'quadrilobed',\n",
       " 'quadrilocular',\n",
       " 'quadriloculate',\n",
       " 'quadrilogue',\n",
       " 'quadrilogy',\n",
       " 'quadrimembral',\n",
       " 'quadrimetallic',\n",
       " 'quadrimolecular',\n",
       " 'quadrimum',\n",
       " 'quadrinodal',\n",
       " 'quadrinomial',\n",
       " 'quadrinomical',\n",
       " 'quadrinominal',\n",
       " 'quadrinucleate',\n",
       " 'quadrioxalate',\n",
       " 'quadriparous',\n",
       " 'quadripartite',\n",
       " 'quadripartitely',\n",
       " 'quadripartition',\n",
       " 'quadripennate',\n",
       " 'quadriphosphate',\n",
       " 'quadriphyllous',\n",
       " 'quadripinnate',\n",
       " 'quadriplanar',\n",
       " 'quadriplegia',\n",
       " 'quadriplicate',\n",
       " 'quadriplicated',\n",
       " 'quadripolar',\n",
       " 'quadripole',\n",
       " 'quadriportico',\n",
       " 'quadriporticus',\n",
       " 'quadripulmonary',\n",
       " 'quadriquadric',\n",
       " 'quadriradiate',\n",
       " 'quadrireme',\n",
       " 'quadrisect',\n",
       " 'quadrisection',\n",
       " 'quadriseptate',\n",
       " 'quadriserial',\n",
       " 'quadrisetose',\n",
       " 'quadrispiral',\n",
       " 'quadristearate',\n",
       " 'quadrisulcate',\n",
       " 'quadrisulcated',\n",
       " 'quadrisulphide',\n",
       " 'quadrisyllabic',\n",
       " 'quadrisyllabical',\n",
       " 'quadrisyllable',\n",
       " 'quadrisyllabous',\n",
       " 'quadriternate',\n",
       " 'quadritubercular',\n",
       " 'quadrituberculate',\n",
       " 'quadriurate',\n",
       " 'quadrivalence',\n",
       " 'quadrivalency',\n",
       " 'quadrivalent',\n",
       " 'quadrivalently',\n",
       " 'quadrivalve',\n",
       " 'quadrivalvular',\n",
       " 'quadrivial',\n",
       " 'quadrivious',\n",
       " 'quadrivium',\n",
       " 'quadrivoltine',\n",
       " 'quadroon',\n",
       " 'quadrual',\n",
       " 'Quadrula',\n",
       " 'quadrum',\n",
       " 'Quadrumana',\n",
       " 'quadrumanal',\n",
       " 'quadrumane',\n",
       " 'quadrumanous',\n",
       " 'quadruped',\n",
       " 'quadrupedal',\n",
       " 'quadrupedan',\n",
       " 'quadrupedant',\n",
       " 'quadrupedantic',\n",
       " 'quadrupedantical',\n",
       " 'quadrupedate',\n",
       " 'quadrupedation',\n",
       " 'quadrupedism',\n",
       " 'quadrupedous',\n",
       " 'quadruplane',\n",
       " 'quadruplator',\n",
       " 'quadruple',\n",
       " 'quadrupleness',\n",
       " 'quadruplet',\n",
       " 'quadruplex',\n",
       " 'quadruplicate',\n",
       " 'quadruplication',\n",
       " 'quadruplicature',\n",
       " 'quadruplicity',\n",
       " 'quadruply',\n",
       " 'quadrupole',\n",
       " 'quaedam',\n",
       " 'Quaequae',\n",
       " 'quaesitum',\n",
       " 'quaestor',\n",
       " 'quaestorial',\n",
       " 'quaestorian',\n",
       " 'quaestorship',\n",
       " 'quaestuary',\n",
       " 'quaff',\n",
       " 'quaffer',\n",
       " 'quaffingly',\n",
       " 'quag',\n",
       " 'quagga',\n",
       " 'quagginess',\n",
       " 'quaggle',\n",
       " 'quaggy',\n",
       " 'quagmire',\n",
       " 'quagmiry',\n",
       " 'quahog',\n",
       " 'quail',\n",
       " 'quailberry',\n",
       " 'quailery',\n",
       " 'quailhead',\n",
       " 'quaillike',\n",
       " 'quaily',\n",
       " 'quaint',\n",
       " 'quaintance',\n",
       " 'quaintise',\n",
       " 'quaintish',\n",
       " 'quaintly',\n",
       " 'quaintness',\n",
       " 'Quaitso',\n",
       " 'quake',\n",
       " 'quakeful',\n",
       " 'quakeproof',\n",
       " 'Quaker',\n",
       " 'quaker',\n",
       " 'quakerbird',\n",
       " 'Quakerdom',\n",
       " 'Quakeress',\n",
       " 'Quakeric',\n",
       " 'Quakerish',\n",
       " 'Quakerishly',\n",
       " 'Quakerishness',\n",
       " 'Quakerism',\n",
       " 'Quakerization',\n",
       " 'Quakerize',\n",
       " 'Quakerlet',\n",
       " 'Quakerlike',\n",
       " 'Quakerly',\n",
       " 'Quakership',\n",
       " 'Quakery',\n",
       " 'quaketail',\n",
       " 'quakiness',\n",
       " 'quaking',\n",
       " 'quakingly',\n",
       " 'quaky',\n",
       " 'quale',\n",
       " 'qualifiable',\n",
       " 'qualification',\n",
       " 'qualificative',\n",
       " 'qualificator',\n",
       " 'qualificatory',\n",
       " 'qualified',\n",
       " 'qualifiedly',\n",
       " 'qualifiedness',\n",
       " 'qualifier',\n",
       " 'qualify',\n",
       " 'qualifyingly',\n",
       " 'qualimeter',\n",
       " 'qualitative',\n",
       " 'qualitatively',\n",
       " 'qualitied',\n",
       " 'quality',\n",
       " 'qualityless',\n",
       " 'qualityship',\n",
       " 'qualm',\n",
       " 'qualminess',\n",
       " 'qualmish',\n",
       " 'qualmishly',\n",
       " 'qualmishness',\n",
       " 'qualmproof',\n",
       " 'qualmy',\n",
       " 'qualmyish',\n",
       " 'qualtagh',\n",
       " 'Quamasia',\n",
       " 'Quamoclit',\n",
       " 'quan',\n",
       " 'quandary',\n",
       " 'quandong',\n",
       " 'quandy',\n",
       " 'quannet',\n",
       " 'quant',\n",
       " 'quanta',\n",
       " 'quantic',\n",
       " 'quantical',\n",
       " 'quantifiable',\n",
       " 'quantifiably',\n",
       " 'quantification',\n",
       " 'quantifier',\n",
       " 'quantify',\n",
       " 'quantimeter',\n",
       " 'quantitate',\n",
       " 'quantitative',\n",
       " 'quantitatively',\n",
       " 'quantitativeness',\n",
       " 'quantitied',\n",
       " 'quantitive',\n",
       " 'quantitively',\n",
       " 'quantity',\n",
       " 'quantivalence',\n",
       " 'quantivalency',\n",
       " 'quantivalent',\n",
       " 'quantization',\n",
       " 'quantize',\n",
       " 'quantometer',\n",
       " 'quantulum',\n",
       " 'quantum',\n",
       " 'Quapaw',\n",
       " 'quaquaversal',\n",
       " 'quaquaversally',\n",
       " 'quar',\n",
       " 'quarantinable',\n",
       " 'quarantine',\n",
       " 'quarantiner',\n",
       " 'quaranty',\n",
       " 'quardeel',\n",
       " 'quare',\n",
       " 'quarenden',\n",
       " 'quarender',\n",
       " 'quarentene',\n",
       " 'quark',\n",
       " 'quarl',\n",
       " 'quarle',\n",
       " 'quarred',\n",
       " 'quarrel',\n",
       " 'quarreled',\n",
       " 'quarreler',\n",
       " 'quarreling',\n",
       " 'quarrelingly',\n",
       " 'quarrelproof',\n",
       " 'quarrelsome',\n",
       " 'quarrelsomely',\n",
       " 'quarrelsomeness',\n",
       " 'quarriable',\n",
       " 'quarried',\n",
       " 'quarrier',\n",
       " 'quarry',\n",
       " 'quarryable',\n",
       " 'quarrying',\n",
       " 'quarryman',\n",
       " 'quarrystone',\n",
       " 'quart',\n",
       " 'quartan',\n",
       " 'quartane',\n",
       " 'quartation',\n",
       " 'quartenylic',\n",
       " 'quarter',\n",
       " 'quarterage',\n",
       " 'quarterback',\n",
       " 'quarterdeckish',\n",
       " 'quartered',\n",
       " 'quarterer',\n",
       " 'quartering',\n",
       " 'quarterization',\n",
       " 'quarterland',\n",
       " 'quarterly',\n",
       " 'quarterman',\n",
       " 'quartermaster',\n",
       " 'quartermasterlike',\n",
       " 'quartermastership',\n",
       " 'quartern',\n",
       " 'quarterpace',\n",
       " 'quarters',\n",
       " 'quartersaw',\n",
       " 'quartersawed',\n",
       " 'quarterspace',\n",
       " 'quarterstaff',\n",
       " 'quarterstetch',\n",
       " 'quartet',\n",
       " 'quartette',\n",
       " 'quartetto',\n",
       " 'quartful',\n",
       " 'quartic',\n",
       " 'quartile',\n",
       " 'quartine',\n",
       " 'quartiparous',\n",
       " 'quarto',\n",
       " 'Quartodeciman',\n",
       " 'quartodecimanism',\n",
       " 'quartole',\n",
       " 'quartz',\n",
       " 'quartzic',\n",
       " 'quartziferous',\n",
       " 'quartzite',\n",
       " 'quartzitic',\n",
       " 'quartzless',\n",
       " 'quartzoid',\n",
       " 'quartzose',\n",
       " 'quartzous',\n",
       " 'quartzy',\n",
       " 'quash',\n",
       " 'Quashee',\n",
       " 'quashey',\n",
       " 'quashy',\n",
       " 'quasi',\n",
       " 'quasijudicial',\n",
       " 'Quasimodo',\n",
       " 'quasky',\n",
       " 'quassation',\n",
       " 'quassative',\n",
       " 'Quassia',\n",
       " 'quassiin',\n",
       " 'quassin',\n",
       " 'quat',\n",
       " 'quata',\n",
       " 'quatch',\n",
       " 'quatercentenary',\n",
       " 'quatern',\n",
       " 'quaternal',\n",
       " 'quaternarian',\n",
       " 'quaternarius',\n",
       " 'quaternary',\n",
       " 'quaternate',\n",
       " 'quaternion',\n",
       " 'quaternionic',\n",
       " 'quaternionist',\n",
       " 'quaternitarian',\n",
       " 'quaternity',\n",
       " 'quaters',\n",
       " 'quatertenses',\n",
       " 'quatorzain',\n",
       " 'quatorze',\n",
       " 'quatrain',\n",
       " 'quatral',\n",
       " 'quatrayle',\n",
       " 'quatre',\n",
       " 'quatrefeuille',\n",
       " 'quatrefoil',\n",
       " 'quatrefoiled',\n",
       " 'quatrefoliated',\n",
       " 'quatrible',\n",
       " 'quatrin',\n",
       " 'quatrino',\n",
       " 'quatrocentism',\n",
       " 'quatrocentist',\n",
       " 'quatrocento',\n",
       " 'Quatsino',\n",
       " 'quattie',\n",
       " 'quattrini',\n",
       " 'quatuor',\n",
       " 'quatuorvirate',\n",
       " 'quauk',\n",
       " 'quave',\n",
       " 'quaver',\n",
       " 'quaverer',\n",
       " 'quavering',\n",
       " 'quaveringly',\n",
       " 'quaverous',\n",
       " 'quavery',\n",
       " 'quaverymavery',\n",
       " 'quaw',\n",
       " 'quawk',\n",
       " 'quay',\n",
       " 'quayage',\n",
       " 'quayful',\n",
       " 'quaylike',\n",
       " 'quayman',\n",
       " 'quayside',\n",
       " 'quaysider',\n",
       " 'qubba',\n",
       " 'queach',\n",
       " 'queachy',\n",
       " 'queak',\n",
       " 'queal',\n",
       " 'quean',\n",
       " 'queanish',\n",
       " 'queasily',\n",
       " 'queasiness',\n",
       " 'queasom',\n",
       " 'queasy',\n",
       " 'quebrachamine',\n",
       " 'quebrachine',\n",
       " 'quebrachitol',\n",
       " 'quebracho',\n",
       " 'quebradilla',\n",
       " 'Quechua',\n",
       " 'Quechuan',\n",
       " 'quedful',\n",
       " 'queechy',\n",
       " 'queen',\n",
       " 'queencake',\n",
       " 'queencraft',\n",
       " 'queencup',\n",
       " 'queendom',\n",
       " 'queenfish',\n",
       " 'queenhood',\n",
       " 'queening',\n",
       " 'queenite',\n",
       " 'queenless',\n",
       " 'queenlet',\n",
       " 'queenlike',\n",
       " 'queenliness',\n",
       " 'queenly',\n",
       " 'queenright',\n",
       " 'queenroot',\n",
       " 'queensberry',\n",
       " 'queenship',\n",
       " 'queenweed',\n",
       " 'queenwood',\n",
       " 'queer',\n",
       " 'queerer',\n",
       " 'queerish',\n",
       " 'queerishness',\n",
       " 'queerity',\n",
       " 'queerly',\n",
       " 'queerness',\n",
       " 'queersome',\n",
       " 'queery',\n",
       " 'queest',\n",
       " 'queesting',\n",
       " 'queet',\n",
       " 'queeve',\n",
       " 'quegh',\n",
       " 'quei',\n",
       " 'queintise',\n",
       " 'quelch',\n",
       " 'Quelea',\n",
       " 'quell',\n",
       " 'queller',\n",
       " 'quemado',\n",
       " 'queme',\n",
       " 'quemeful',\n",
       " 'quemefully',\n",
       " 'quemely',\n",
       " 'quench',\n",
       " 'quenchable',\n",
       " 'quenchableness',\n",
       " 'quencher',\n",
       " 'quenchless',\n",
       " 'quenchlessly',\n",
       " 'quenchlessness',\n",
       " 'quenelle',\n",
       " 'quenselite',\n",
       " 'quercetagetin',\n",
       " 'quercetic',\n",
       " 'quercetin',\n",
       " 'quercetum',\n",
       " 'quercic',\n",
       " 'Querciflorae',\n",
       " 'quercimeritrin',\n",
       " 'quercin',\n",
       " 'quercine',\n",
       " 'quercinic',\n",
       " 'quercitannic',\n",
       " 'quercitannin',\n",
       " 'quercite',\n",
       " 'quercitin',\n",
       " 'quercitol',\n",
       " 'quercitrin',\n",
       " 'quercitron',\n",
       " 'quercivorous',\n",
       " 'Quercus',\n",
       " 'Querecho',\n",
       " 'Querendi',\n",
       " 'Querendy',\n",
       " 'querent',\n",
       " 'Queres',\n",
       " 'querier',\n",
       " 'queriman',\n",
       " 'querimonious',\n",
       " 'querimoniously',\n",
       " 'querimoniousness',\n",
       " 'querimony',\n",
       " 'querist',\n",
       " 'querken',\n",
       " 'querl',\n",
       " 'quern',\n",
       " 'quernal',\n",
       " 'Quernales',\n",
       " 'quernstone',\n",
       " 'querulent',\n",
       " 'querulential',\n",
       " 'querulist',\n",
       " 'querulity',\n",
       " 'querulosity',\n",
       " 'querulous',\n",
       " 'querulously',\n",
       " 'querulousness',\n",
       " 'query',\n",
       " 'querying',\n",
       " 'queryingly',\n",
       " 'queryist',\n",
       " 'quesited',\n",
       " 'quesitive',\n",
       " 'quest',\n",
       " 'quester',\n",
       " 'questeur',\n",
       " 'questful',\n",
       " 'questingly',\n",
       " 'question',\n",
       " 'questionability',\n",
       " 'questionable',\n",
       " 'questionableness',\n",
       " 'questionably',\n",
       " 'questionary',\n",
       " 'questionee',\n",
       " 'questioner',\n",
       " 'questioningly',\n",
       " 'questionist',\n",
       " 'questionless',\n",
       " 'questionlessly',\n",
       " 'questionnaire',\n",
       " 'questionous',\n",
       " 'questionwise',\n",
       " 'questman',\n",
       " 'questor',\n",
       " 'questorial',\n",
       " 'questorship',\n",
       " 'quet',\n",
       " 'quetch',\n",
       " 'quetenite',\n",
       " 'quetzal',\n",
       " 'queue',\n",
       " 'quey',\n",
       " 'Quiangan',\n",
       " 'quiapo',\n",
       " 'quib',\n",
       " 'quibble',\n",
       " 'quibbleproof',\n",
       " 'quibbler',\n",
       " 'quibblingly',\n",
       " 'quiblet',\n",
       " 'quica',\n",
       " 'Quiche',\n",
       " 'quick',\n",
       " 'quickbeam',\n",
       " 'quickborn',\n",
       " 'quicken',\n",
       " 'quickenance',\n",
       " 'quickenbeam',\n",
       " 'quickener',\n",
       " 'quickfoot',\n",
       " 'quickhatch',\n",
       " 'quickhearted',\n",
       " 'quickie',\n",
       " 'quicklime',\n",
       " 'quickly',\n",
       " 'quickness',\n",
       " 'quicksand',\n",
       " 'quicksandy',\n",
       " 'quickset',\n",
       " 'quicksilver',\n",
       " 'quicksilvering',\n",
       " 'quicksilverish',\n",
       " 'quicksilverishness',\n",
       " 'quicksilvery',\n",
       " 'quickstep',\n",
       " 'quickthorn',\n",
       " 'quickwork',\n",
       " 'quid',\n",
       " 'Quidae',\n",
       " 'quiddative',\n",
       " 'quidder',\n",
       " 'Quiddist',\n",
       " 'quiddit',\n",
       " 'quidditative',\n",
       " 'quidditatively',\n",
       " 'quiddity',\n",
       " 'quiddle',\n",
       " 'quiddler',\n",
       " 'quidnunc',\n",
       " 'quiesce',\n",
       " 'quiescence',\n",
       " 'quiescency',\n",
       " 'quiescent',\n",
       " 'quiescently',\n",
       " 'quiet',\n",
       " 'quietable',\n",
       " 'quieten',\n",
       " 'quietener',\n",
       " 'quieter',\n",
       " 'quieting',\n",
       " 'quietism',\n",
       " 'quietist',\n",
       " 'quietistic',\n",
       " 'quietive',\n",
       " 'quietlike',\n",
       " 'quietly',\n",
       " 'quietness',\n",
       " 'quietsome',\n",
       " 'quietude',\n",
       " 'quietus',\n",
       " 'quiff',\n",
       " 'quiffing',\n",
       " 'Quiina',\n",
       " 'Quiinaceae',\n",
       " 'quiinaceous',\n",
       " 'quila',\n",
       " 'quiles',\n",
       " 'Quileute',\n",
       " 'quilkin',\n",
       " 'quill',\n",
       " 'Quillagua',\n",
       " 'quillai',\n",
       " 'quillaic',\n",
       " 'Quillaja',\n",
       " 'quillaja',\n",
       " 'quillback',\n",
       " 'quilled',\n",
       " 'quiller',\n",
       " 'quillet',\n",
       " 'quilleted',\n",
       " 'quillfish',\n",
       " 'quilling',\n",
       " 'quilltail',\n",
       " 'quillwork',\n",
       " 'quillwort',\n",
       " 'quilly',\n",
       " 'quilt',\n",
       " 'quilted',\n",
       " 'quilter',\n",
       " 'quilting',\n",
       " 'Quimbaya',\n",
       " 'Quimper',\n",
       " 'quin',\n",
       " 'quina',\n",
       " 'quinacrine',\n",
       " 'Quinaielt',\n",
       " 'quinaldic',\n",
       " 'quinaldine',\n",
       " 'quinaldinic',\n",
       " 'quinaldinium',\n",
       " 'quinaldyl',\n",
       " 'quinamicine',\n",
       " 'quinamidine',\n",
       " 'quinamine',\n",
       " 'quinanisole',\n",
       " 'quinaquina',\n",
       " 'quinarian',\n",
       " 'quinarius',\n",
       " 'quinary',\n",
       " 'quinate',\n",
       " 'quinatoxine',\n",
       " 'Quinault',\n",
       " 'quinazoline',\n",
       " 'quinazolyl',\n",
       " 'quince',\n",
       " 'quincentenary',\n",
       " 'quincentennial',\n",
       " 'quincewort',\n",
       " 'quinch',\n",
       " 'quincubital',\n",
       " 'quincubitalism',\n",
       " 'quincuncial',\n",
       " 'quincuncially',\n",
       " 'quincunx',\n",
       " 'quincunxial',\n",
       " 'quindecad',\n",
       " 'quindecagon',\n",
       " 'quindecangle',\n",
       " 'quindecasyllabic',\n",
       " 'quindecemvir',\n",
       " 'quindecemvirate',\n",
       " 'quindecennial',\n",
       " 'quindecim',\n",
       " 'quindecima',\n",
       " 'quindecylic',\n",
       " 'quindene',\n",
       " 'quinetum',\n",
       " 'quingentenary',\n",
       " 'quinhydrone',\n",
       " 'quinia',\n",
       " 'quinible',\n",
       " 'quinic',\n",
       " 'quinicine',\n",
       " 'quinidia',\n",
       " 'quinidine',\n",
       " 'quinin',\n",
       " 'quinina',\n",
       " 'quinine',\n",
       " 'quininiazation',\n",
       " 'quininic',\n",
       " 'quininism',\n",
       " 'quininize',\n",
       " 'quiniretin',\n",
       " 'quinisext',\n",
       " 'quinisextine',\n",
       " 'quinism',\n",
       " 'quinite',\n",
       " 'quinitol',\n",
       " 'quinizarin',\n",
       " 'quinize',\n",
       " 'quink',\n",
       " 'quinnat',\n",
       " 'quinnet',\n",
       " 'Quinnipiac',\n",
       " 'quinoa',\n",
       " 'quinocarbonium',\n",
       " 'quinoform',\n",
       " 'quinogen',\n",
       " 'quinoid',\n",
       " 'quinoidal',\n",
       " 'quinoidation',\n",
       " 'quinoidine',\n",
       " 'quinol',\n",
       " 'quinoline',\n",
       " 'quinolinic',\n",
       " 'quinolinium',\n",
       " 'quinolinyl',\n",
       " 'quinologist',\n",
       " 'quinology',\n",
       " 'quinolyl',\n",
       " 'quinometry',\n",
       " 'quinone',\n",
       " 'quinonediimine',\n",
       " 'quinonic',\n",
       " 'quinonimine',\n",
       " 'quinonization',\n",
       " 'quinonize',\n",
       " 'quinonoid',\n",
       " 'quinonyl',\n",
       " 'quinopyrin',\n",
       " 'quinotannic',\n",
       " 'quinotoxine',\n",
       " 'quinova',\n",
       " 'quinovatannic',\n",
       " 'quinovate',\n",
       " 'quinovic',\n",
       " 'quinovin',\n",
       " 'quinovose',\n",
       " 'quinoxaline',\n",
       " 'quinoxalyl',\n",
       " 'quinoyl',\n",
       " 'quinquagenarian',\n",
       " 'quinquagenary',\n",
       " 'Quinquagesima',\n",
       " 'quinquagesimal',\n",
       " 'quinquarticular',\n",
       " 'Quinquatria',\n",
       " 'Quinquatrus',\n",
       " 'quinquecapsular',\n",
       " 'quinquecostate',\n",
       " 'quinquedentate',\n",
       " 'quinquedentated',\n",
       " 'quinquefarious',\n",
       " 'quinquefid',\n",
       " 'quinquefoliate',\n",
       " 'quinquefoliated',\n",
       " 'quinquefoliolate',\n",
       " 'quinquegrade',\n",
       " 'quinquejugous',\n",
       " 'quinquelateral',\n",
       " 'quinqueliteral',\n",
       " 'quinquelobate',\n",
       " 'quinquelobated',\n",
       " 'quinquelobed',\n",
       " 'quinquelocular',\n",
       " 'quinqueloculine',\n",
       " 'quinquenary',\n",
       " 'quinquenerval',\n",
       " 'quinquenerved',\n",
       " 'quinquennalia',\n",
       " 'quinquennia',\n",
       " 'quinquenniad',\n",
       " 'quinquennial',\n",
       " 'quinquennialist',\n",
       " 'quinquennially',\n",
       " 'quinquennium',\n",
       " 'quinquepartite',\n",
       " 'quinquepedal',\n",
       " 'quinquepedalian',\n",
       " 'quinquepetaloid',\n",
       " 'quinquepunctal',\n",
       " 'quinquepunctate',\n",
       " 'quinqueradial',\n",
       " 'quinqueradiate',\n",
       " 'quinquereme',\n",
       " 'quinquertium',\n",
       " 'quinquesect',\n",
       " 'quinquesection',\n",
       " 'quinqueseptate',\n",
       " 'quinqueserial',\n",
       " 'quinqueseriate',\n",
       " 'quinquesyllabic',\n",
       " 'quinquesyllable',\n",
       " 'quinquetubercular',\n",
       " 'quinquetuberculate',\n",
       " 'quinquevalence',\n",
       " 'quinquevalency',\n",
       " 'quinquevalent',\n",
       " 'quinquevalve',\n",
       " 'quinquevalvous',\n",
       " 'quinquevalvular',\n",
       " 'quinqueverbal',\n",
       " 'quinqueverbial',\n",
       " 'quinquevir',\n",
       " 'quinquevirate',\n",
       " 'quinquiliteral',\n",
       " 'quinquina',\n",
       " 'quinquino',\n",
       " 'quinse',\n",
       " 'quinsied',\n",
       " 'quinsy',\n",
       " 'quinsyberry',\n",
       " 'quinsywort',\n",
       " 'quint',\n",
       " 'quintad',\n",
       " 'quintadena',\n",
       " 'quintadene',\n",
       " 'quintain',\n",
       " 'quintal',\n",
       " 'quintan',\n",
       " 'quintant',\n",
       " 'quintary',\n",
       " 'quintato',\n",
       " 'quinte',\n",
       " 'quintelement',\n",
       " 'quintennial',\n",
       " 'quinternion',\n",
       " 'quinteron',\n",
       " 'quinteroon',\n",
       " 'quintessence',\n",
       " 'quintessential',\n",
       " 'quintessentiality',\n",
       " 'quintessentially',\n",
       " 'quintessentiate',\n",
       " 'quintet',\n",
       " 'quintette',\n",
       " 'quintetto',\n",
       " 'quintic',\n",
       " 'quintile',\n",
       " 'Quintilis',\n",
       " 'Quintillian',\n",
       " 'quintillion',\n",
       " 'quintillionth',\n",
       " 'Quintin',\n",
       " 'quintin',\n",
       " 'quintiped',\n",
       " 'Quintius',\n",
       " 'quinto',\n",
       " 'quintocubital',\n",
       " 'quintocubitalism',\n",
       " 'quintole',\n",
       " 'quinton',\n",
       " 'quintroon',\n",
       " 'quintuple',\n",
       " 'quintuplet',\n",
       " 'quintuplicate',\n",
       " 'quintuplication',\n",
       " 'quintuplinerved',\n",
       " 'quintupliribbed',\n",
       " 'quintus',\n",
       " ...]"
      ]
     },
     "execution_count": 69,
     "metadata": {},
     "output_type": "execute_result"
    }
   ],
   "source": [
    "words_by_first_letter['q']"
   ]
  },
  {
   "cell_type": "code",
   "execution_count": 72,
   "id": "2c78c32f-5e75-4025-87f6-7cb4fb9ed91c",
   "metadata": {
    "tags": []
   },
   "outputs": [],
   "source": [
    "def find_word_hash(dict_of_words, word):\n",
    "    first_letter = word[0].lower()\n",
    "    return find_word_fuzzy(dict_of_words[first_letter], word)"
   ]
  },
  {
   "cell_type": "code",
   "execution_count": 74,
   "id": "ff0c3b5e-892c-438c-8c01-a54ebd94ce33",
   "metadata": {
    "tags": []
   },
   "outputs": [
    {
     "data": {
      "text/plain": [
       "'whisky'"
      ]
     },
     "execution_count": 74,
     "metadata": {},
     "output_type": "execute_result"
    }
   ],
   "source": [
    "find_word_hash(words_by_first_letter, 'whiskye')"
   ]
  },
  {
   "cell_type": "code",
   "execution_count": 76,
   "id": "603daf4a-a97e-49b6-99a6-a54051ec8ba9",
   "metadata": {
    "tags": []
   },
   "outputs": [
    {
     "name": "stdout",
     "output_type": "stream",
     "text": [
      "193 ms ± 39.6 ms per loop (mean ± std. dev. of 7 runs, 1 loop each)\n"
     ]
    }
   ],
   "source": [
    "%timeit find_word_fuzzy(word_list, \"whiskye\")"
   ]
  },
  {
   "cell_type": "code",
   "execution_count": 77,
   "id": "404fd88b-f2a6-4456-8b1f-9907d6515595",
   "metadata": {
    "tags": []
   },
   "outputs": [
    {
     "name": "stdout",
     "output_type": "stream",
     "text": [
      "3.17 ms ± 439 µs per loop (mean ± std. dev. of 7 runs, 100 loops each)\n"
     ]
    }
   ],
   "source": [
    "%timeit find_word_hash(words_by_first_letter, \"whiskye\")"
   ]
  },
  {
   "cell_type": "code",
   "execution_count": 78,
   "id": "2ae684fc-8cca-4919-8447-bfd5e4f26f69",
   "metadata": {
    "tags": []
   },
   "outputs": [
    {
     "data": {
      "text/plain": [
       "3990"
      ]
     },
     "execution_count": 78,
     "metadata": {},
     "output_type": "execute_result"
    }
   ],
   "source": [
    "len(words_by_first_letter['w'])"
   ]
  },
  {
   "cell_type": "code",
   "execution_count": null,
   "id": "f761ac84-2362-4372-897c-537d797cb443",
   "metadata": {},
   "outputs": [],
   "source": []
  }
 ],
 "metadata": {
  "kernelspec": {
   "display_name": "Python 3 (ipykernel)",
   "language": "python",
   "name": "python3"
  },
  "language_info": {
   "codemirror_mode": {
    "name": "ipython",
    "version": 3
   },
   "file_extension": ".py",
   "mimetype": "text/x-python",
   "name": "python",
   "nbconvert_exporter": "python",
   "pygments_lexer": "ipython3",
   "version": "3.11.4"
  }
 },
 "nbformat": 4,
 "nbformat_minor": 5
}
