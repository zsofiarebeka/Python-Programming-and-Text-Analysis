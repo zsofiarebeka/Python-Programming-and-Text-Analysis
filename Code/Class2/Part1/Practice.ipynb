{
 "cells": [
  {
   "cell_type": "code",
   "execution_count": 1,
   "id": "8009dc68-5aa0-4b24-b03a-6d8e0371be41",
   "metadata": {
    "tags": []
   },
   "outputs": [],
   "source": [
    "def yell(string):\n",
    "    yell_string = string.upper()\n",
    "    return yell_string"
   ]
  },
  {
   "cell_type": "code",
   "execution_count": 3,
   "id": "e569fd17-ada8-436e-b045-e74178cdcb31",
   "metadata": {
    "tags": []
   },
   "outputs": [
    {
     "data": {
      "text/plain": [
       "'WHY ARE YOU YELLING'"
      ]
     },
     "execution_count": 3,
     "metadata": {},
     "output_type": "execute_result"
    }
   ],
   "source": [
    "yell(\"Why are you yelling\")"
   ]
  },
  {
   "cell_type": "code",
   "execution_count": 4,
   "id": "9502d6c3-037d-4f2c-b415-0be46b911841",
   "metadata": {
    "tags": []
   },
   "outputs": [
    {
     "ename": "NameError",
     "evalue": "name 'yell_string' is not defined",
     "output_type": "error",
     "traceback": [
      "\u001b[1;31m---------------------------------------------------------------------------\u001b[0m",
      "\u001b[1;31mNameError\u001b[0m                                 Traceback (most recent call last)",
      "Cell \u001b[1;32mIn[4], line 1\u001b[0m\n\u001b[1;32m----> 1\u001b[0m yell_string\n",
      "\u001b[1;31mNameError\u001b[0m: name 'yell_string' is not defined"
     ]
    }
   ],
   "source": [
    "yell_string"
   ]
  },
  {
   "cell_type": "code",
   "execution_count": 8,
   "id": "9ad1c65a-3a49-4229-ad90-91312a449af4",
   "metadata": {
    "tags": []
   },
   "outputs": [],
   "source": [
    "def whisper(string):\n",
    "    whisper_string = string.lower()\n",
    "    return whisper_string"
   ]
  },
  {
   "cell_type": "code",
   "execution_count": 9,
   "id": "0d317bd7-f4a4-4ae7-b542-cd46fc961d2b",
   "metadata": {
    "tags": []
   },
   "outputs": [
    {
     "data": {
      "text/plain": [
       "'PASS A STRING'"
      ]
     },
     "execution_count": 9,
     "metadata": {},
     "output_type": "execute_result"
    }
   ],
   "source": [
    "yell(whisper(\"PAss a STRING\"))"
   ]
  },
  {
   "cell_type": "code",
   "execution_count": 10,
   "id": "914e7bec-f1e6-4f53-975a-b2dfdf7ceae3",
   "metadata": {
    "tags": []
   },
   "outputs": [
    {
     "data": {
      "text/plain": [
       "'pass a string'"
      ]
     },
     "execution_count": 10,
     "metadata": {},
     "output_type": "execute_result"
    }
   ],
   "source": [
    "whisper(yell(\"PAss a STRING\"))"
   ]
  },
  {
   "cell_type": "code",
   "execution_count": 11,
   "id": "663b0f0e-7bb6-4ccb-a18e-68b12e4632d9",
   "metadata": {
    "tags": []
   },
   "outputs": [
    {
     "data": {
      "text/plain": [
       "'AFTERNOONAFTERNOON'"
      ]
     },
     "execution_count": 11,
     "metadata": {},
     "output_type": "execute_result"
    }
   ],
   "source": [
    "2*yell(\"Afternoon\")"
   ]
  },
  {
   "cell_type": "code",
   "execution_count": 12,
   "id": "24970727-07ea-40a7-9da9-f22734ac5fd9",
   "metadata": {
    "tags": []
   },
   "outputs": [
    {
     "data": {
      "text/plain": [
       "'noonnoon'"
      ]
     },
     "execution_count": 12,
     "metadata": {},
     "output_type": "execute_result"
    }
   ],
   "source": [
    "2*whisper(\"Noon\")"
   ]
  },
  {
   "cell_type": "code",
   "execution_count": 17,
   "id": "c9a8a191-e3b9-4916-af4a-bb79587a44bc",
   "metadata": {
    "tags": []
   },
   "outputs": [],
   "source": [
    "def yell(string):\n",
    "    my_string = string.upper(), string.lower().list()\n",
    "    return my_string"
   ]
  },
  {
   "cell_type": "code",
   "execution_count": 18,
   "id": "3b97b2d4-4d01-4a5d-82a4-c09e2d7942c3",
   "metadata": {
    "tags": []
   },
   "outputs": [
    {
     "ename": "AttributeError",
     "evalue": "'str' object has no attribute 'list'",
     "output_type": "error",
     "traceback": [
      "\u001b[1;31m---------------------------------------------------------------------------\u001b[0m",
      "\u001b[1;31mAttributeError\u001b[0m                            Traceback (most recent call last)",
      "Cell \u001b[1;32mIn[18], line 1\u001b[0m\n\u001b[1;32m----> 1\u001b[0m yell(\u001b[38;5;124m\"\u001b[39m\u001b[38;5;124mLet\u001b[39m\u001b[38;5;124m'\u001b[39m\u001b[38;5;124ms see\u001b[39m\u001b[38;5;124m\"\u001b[39m)\n",
      "Cell \u001b[1;32mIn[17], line 2\u001b[0m, in \u001b[0;36myell\u001b[1;34m(string)\u001b[0m\n\u001b[0;32m      1\u001b[0m \u001b[38;5;28;01mdef\u001b[39;00m \u001b[38;5;21myell\u001b[39m(string):\n\u001b[1;32m----> 2\u001b[0m     my_string \u001b[38;5;241m=\u001b[39m string\u001b[38;5;241m.\u001b[39mupper(), string\u001b[38;5;241m.\u001b[39mlower()\u001b[38;5;241m.\u001b[39mlist()\n\u001b[0;32m      3\u001b[0m     \u001b[38;5;28;01mreturn\u001b[39;00m my_string\n",
      "\u001b[1;31mAttributeError\u001b[0m: 'str' object has no attribute 'list'"
     ]
    }
   ],
   "source": [
    "yell(\"Let's see\")"
   ]
  },
  {
   "cell_type": "code",
   "execution_count": null,
   "id": "2f3712ec-35f6-432a-b073-e217eee6490b",
   "metadata": {},
   "outputs": [],
   "source": []
  }
 ],
 "metadata": {
  "kernelspec": {
   "display_name": "Python 3 (ipykernel)",
   "language": "python",
   "name": "python3"
  },
  "language_info": {
   "codemirror_mode": {
    "name": "ipython",
    "version": 3
   },
   "file_extension": ".py",
   "mimetype": "text/x-python",
   "name": "python",
   "nbconvert_exporter": "python",
   "pygments_lexer": "ipython3",
   "version": "3.11.4"
  }
 },
 "nbformat": 4,
 "nbformat_minor": 5
}
