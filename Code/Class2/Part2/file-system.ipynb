{
 "cells": [
  {
   "cell_type": "markdown",
   "metadata": {},
   "source": [
    "In Python, to interact with your operating system we use the `os` module. We will mainly use it to access files -- and folders -- and change the working directory. We can also use it to create folders, remove folders, move folders.\n",
    "We can use the `os` module by importing it."
   ]
  },
  {
   "cell_type": "code",
   "execution_count": 1,
   "metadata": {
    "tags": []
   },
   "outputs": [],
   "source": [
    "import os"
   ]
  },
  {
   "cell_type": "code",
   "execution_count": 2,
   "metadata": {
    "tags": []
   },
   "outputs": [
    {
     "data": {
      "text/plain": [
       "'C:\\\\Users\\\\Zsófi\\\\Documents\\\\CEU\\\\Winter\\\\Python-Programming\\\\Python-Programming-and-Text-Analysis\\\\Code\\\\Class2\\\\Part2'"
      ]
     },
     "execution_count": 2,
     "metadata": {},
     "output_type": "execute_result"
    }
   ],
   "source": [
    "os.getcwd() # check the current working directory by typing:"
   ]
  },
  {
   "cell_type": "code",
   "execution_count": 3,
   "metadata": {
    "tags": []
   },
   "outputs": [
    {
     "data": {
      "text/plain": [
       "['.ipynb_checkpoints',\n",
       " 'file-system.ipynb',\n",
       " 'MyStrings.py',\n",
       " 'reading-writing-files.ipynb',\n",
       " 'TextUtils.ipynb',\n",
       " '__pycache__']"
      ]
     },
     "execution_count": 3,
     "metadata": {},
     "output_type": "execute_result"
    }
   ],
   "source": [
    "os.listdir()  #access the names of files within a file path\n"
   ]
  },
  {
   "cell_type": "markdown",
   "metadata": {},
   "source": [
    "We can change the current working directory by using `os.chdir(filepath)`. Indeed if I would like to access material in the Class2 folder typing: "
   ]
  },
  {
   "cell_type": "code",
   "execution_count": 26,
   "metadata": {
    "tags": []
   },
   "outputs": [],
   "source": [
    "os.chdir(\"../\") #relative path"
   ]
  },
  {
   "cell_type": "code",
   "execution_count": 29,
   "metadata": {
    "tags": []
   },
   "outputs": [],
   "source": [
    "os.chdir('C:\\\\Users\\\\Zsófi\\\\Documents\\\\CEU\\\\Winter\\\\Python-Programming\\\\Python-Programming-and-Text-Analysis\\\\Code\\\\Class2\\\\Part2')"
   ]
  },
  {
   "cell_type": "code",
   "execution_count": 30,
   "metadata": {
    "tags": []
   },
   "outputs": [
    {
     "data": {
      "text/plain": [
       "'C:\\\\Users\\\\Zsófi\\\\Documents\\\\CEU\\\\Winter\\\\Python-Programming\\\\Python-Programming-and-Text-Analysis\\\\Code\\\\Class2\\\\Part2'"
      ]
     },
     "execution_count": 30,
     "metadata": {},
     "output_type": "execute_result"
    }
   ],
   "source": [
    "os.getcwd() # check the current working directory by typing:"
   ]
  },
  {
   "cell_type": "code",
   "execution_count": 5,
   "metadata": {
    "tags": []
   },
   "outputs": [
    {
     "ename": "FileNotFoundError",
     "evalue": "[WinError 3] A rendszer nem találja a megadott elérési utat: '/Users/ariedamuco/Dropbox (CEU Econ)/TextAnalysisCEU/Code/Class2'",
     "output_type": "error",
     "traceback": [
      "\u001b[1;31m---------------------------------------------------------------------------\u001b[0m",
      "\u001b[1;31mFileNotFoundError\u001b[0m                         Traceback (most recent call last)",
      "Cell \u001b[1;32mIn[5], line 1\u001b[0m\n\u001b[1;32m----> 1\u001b[0m os\u001b[38;5;241m.\u001b[39mchdir(\u001b[38;5;124m\"\u001b[39m\u001b[38;5;124m/Users/ariedamuco/Dropbox (CEU Econ)/TextAnalysisCEU/Code/Class2\u001b[39m\u001b[38;5;124m\"\u001b[39m)\n",
      "\u001b[1;31mFileNotFoundError\u001b[0m: [WinError 3] A rendszer nem találja a megadott elérési utat: '/Users/ariedamuco/Dropbox (CEU Econ)/TextAnalysisCEU/Code/Class2'"
     ]
    }
   ],
   "source": [
    "os.chdir(\"/Users/ariedamuco/Dropbox (CEU Econ)/TextAnalysisCEU/Code/Class2\") #absolute path"
   ]
  },
  {
   "cell_type": "markdown",
   "metadata": {},
   "source": [
    "Make sure you always use relative rather than absolute paths. With relative paths you make your code reproducible and easy to share with colleagues."
   ]
  },
  {
   "cell_type": "markdown",
   "metadata": {},
   "source": [
    "Note that what is passed inside is a string. So you can do:"
   ]
  },
  {
   "cell_type": "code",
   "execution_count": 34,
   "metadata": {
    "tags": []
   },
   "outputs": [],
   "source": [
    "my_dir='C:\\\\Users\\\\Zsófi\\\\Documents\\\\CEU\\\\Winter\\\\Python-Programming\\\\Python-Programming-and-Text-Analysis\\\\Code\\\\Class2\\\\Part2'"
   ]
  },
  {
   "cell_type": "code",
   "execution_count": 35,
   "metadata": {
    "tags": []
   },
   "outputs": [],
   "source": [
    "os.chdir(my_dir)"
   ]
  },
  {
   "cell_type": "markdown",
   "metadata": {},
   "source": [
    "To make a new directory you type os.mkdir('newDir')"
   ]
  },
  {
   "cell_type": "markdown",
   "metadata": {},
   "source": [
    "To change the name of, or rename, a directory type os.rename(\"newDir\",\"newDir2\") \n",
    "\n",
    "os.rename"
   ]
  },
  {
   "cell_type": "markdown",
   "metadata": {},
   "source": [
    "<img src=\"../../../Slides/Figures/file-system.png\">"
   ]
  },
  {
   "cell_type": "markdown",
   "metadata": {},
   "source": [
    "Challenge: Using the filesystem diagram above, if os.getcwd() (or pwd in jupyter notebooks) displays '/Users/thing/backup/2012-12-01', what will os.chdir(\"../../\") do?"
   ]
  },
  {
   "cell_type": "markdown",
   "metadata": {},
   "source": [
    "### References\n",
    "\n",
    "https://datacarpentry.org/shell-economics/02-the-filesystem/index.html\n",
    "\n",
    "https://automatetheboringstuff.com/2e/chapter10/\n",
    "\n",
    "https://python101.pythonlibrary.org/chapter16_os.html"
   ]
  }
 ],
 "metadata": {
  "kernelspec": {
   "display_name": "Python 3 (ipykernel)",
   "language": "python",
   "name": "python3"
  },
  "language_info": {
   "codemirror_mode": {
    "name": "ipython",
    "version": 3
   },
   "file_extension": ".py",
   "mimetype": "text/x-python",
   "name": "python",
   "nbconvert_exporter": "python",
   "pygments_lexer": "ipython3",
   "version": "3.11.4"
  }
 },
 "nbformat": 4,
 "nbformat_minor": 4
}
