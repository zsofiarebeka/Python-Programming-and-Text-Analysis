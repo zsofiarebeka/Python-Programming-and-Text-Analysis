{
 "cells": [
  {
   "cell_type": "markdown",
   "metadata": {},
   "source": [
    "<center><u><H1>Regular Expressions</H1></u></center>"
   ]
  },
  {
   "cell_type": "code",
   "execution_count": 1,
   "metadata": {
    "tags": []
   },
   "outputs": [],
   "source": [
    "def is_phone_number(text):\n",
    "    if len(text) != 12:\n",
    "        return False\n",
    "    for i in range(0, 3) or i in range(4, 7) or i in range(8, 12):\n",
    "        if not text[i].isdecimal():\n",
    "            return False\n",
    "        if text[3] != '-' or text[7] != '-':\n",
    "            return False\n",
    "        return True"
   ]
  },
  {
   "cell_type": "code",
   "execution_count": 2,
   "metadata": {
    "tags": []
   },
   "outputs": [],
   "source": [
    "def find_phone(insert_message):\n",
    "    for i in range(0,len(insert_message)):\n",
    "        chunk = insert_message[i:i+12]\n",
    "        if is_phone_number(chunk):\n",
    "            print('Phone number found: ' + chunk)"
   ]
  },
  {
   "cell_type": "code",
   "execution_count": 11,
   "metadata": {
    "tags": []
   },
   "outputs": [
    {
     "name": "stdout",
     "output_type": "stream",
     "text": [
      "Phone number found: 415-555-1234\n"
     ]
    }
   ],
   "source": [
    "find_phone(\"You may be familiar with searching for text by pressing CTRL-F and typing in the words you’re looking for. Regular expressions go one step further: They allow you to specify a pattern of text to search for. You may not know a business’s exact phone number, but if you live in the United States or Canada, you know it will be three digits, followed by a hyphen, and then four more digits (and optionally, a three-digit area code at the start). This is how you, as a human, know a phone number when you see it: 415-555-1234 is a phone number, but 4,155,551,234 is not.\")"
   ]
  },
  {
   "cell_type": "code",
   "execution_count": 7,
   "metadata": {
    "tags": []
   },
   "outputs": [],
   "source": [
    "find_phone(\"415-555-101\")"
   ]
  },
  {
   "cell_type": "code",
   "execution_count": 8,
   "metadata": {
    "tags": []
   },
   "outputs": [
    {
     "data": {
      "text/plain": [
       "True"
      ]
     },
     "execution_count": 8,
     "metadata": {},
     "output_type": "execute_result"
    }
   ],
   "source": [
    "is_phone_number(\"415-555-1013\")"
   ]
  },
  {
   "cell_type": "code",
   "execution_count": 12,
   "metadata": {
    "tags": []
   },
   "outputs": [],
   "source": [
    "message = 'Call me at 415-555-1011 tomorrow.  Otherwise, my office number is 415-555-9999. Call me at home 415-555-1012.'"
   ]
  },
  {
   "cell_type": "code",
   "execution_count": 13,
   "metadata": {
    "scrolled": true,
    "tags": []
   },
   "outputs": [
    {
     "name": "stdout",
     "output_type": "stream",
     "text": [
      "Phone number found: 415-555-1011\n",
      "Phone number found: 415-555-9999\n",
      "Phone number found: 415-555-1012\n"
     ]
    }
   ],
   "source": [
    "find_phone(message)"
   ]
  },
  {
   "cell_type": "markdown",
   "metadata": {},
   "source": [
    "Instead of writing all these lines of codes we can use regular expressions. Python has a library called `re`."
   ]
  },
  {
   "cell_type": "code",
   "execution_count": 8,
   "metadata": {},
   "outputs": [],
   "source": [
    "import re\n",
    "# re.compile: has to be a string: we \\d means digits\n",
    "# this is too long\n",
    "# ask chatgpt to give you another\n",
    "phone_num_re = re.compile(r'\\d\\d\\d-\\d\\d\\d-\\d\\d\\d\\d')\n",
    "mo = phone_num_re.search('My telephone number is 415-555-4242.')"
   ]
  },
  {
   "cell_type": "code",
   "execution_count": 14,
   "metadata": {
    "tags": []
   },
   "outputs": [],
   "source": [
    "import re\n",
    "# \\d{3} compiles the repetitions\n",
    "# {} these are called quantifiers\n",
    "# they allow you to specify how many times a character or a group of characters should appear in the pattern\n",
    "phone_num_re = re.compile(r'\\d{3}-\\d{3}-\\d{4}')\n",
    "mo = phone_num_re.search('My telephone number is 415-555-4242.')"
   ]
  },
  {
   "cell_type": "code",
   "execution_count": 15,
   "metadata": {
    "tags": []
   },
   "outputs": [
    {
     "data": {
      "text/plain": [
       "<re.Match object; span=(23, 35), match='415-555-4242'>"
      ]
     },
     "execution_count": 15,
     "metadata": {},
     "output_type": "execute_result"
    }
   ],
   "source": [
    "# match object\n",
    "# from 23 to 35, the span where it finds the result\n",
    "# if we have more than one number, we can use .findall and \n",
    "mo"
   ]
  },
  {
   "cell_type": "code",
   "execution_count": 16,
   "metadata": {
    "tags": []
   },
   "outputs": [
    {
     "name": "stdout",
     "output_type": "stream",
     "text": [
      "Phone number found: 415-555-4242\n"
     ]
    }
   ],
   "source": [
    "print('Phone number found: ' + mo.group(0))"
   ]
  },
  {
   "cell_type": "code",
   "execution_count": 17,
   "metadata": {
    "tags": []
   },
   "outputs": [],
   "source": [
    "#find all numbers in text\n",
    "# and returns it in a list\n",
    "# defined variable.findall('define the string where you extracting the data from')\n",
    "mo = phone_num_re.findall('My number is 415-555-4242 or 415-555-4243.')"
   ]
  },
  {
   "cell_type": "code",
   "execution_count": 18,
   "metadata": {
    "tags": []
   },
   "outputs": [],
   "source": [
    "#Grouping with Parentheses\n",
    "# we can group the numbers into are codes and the rest of the number --> round brackets\n",
    "phone_num_re = re.compile(r'(\\d\\d\\d)-(\\d\\d\\d-\\d\\d\\d\\d)')\n",
    "mo = phone_num_re.search('My number is 415-555-4242.')"
   ]
  },
  {
   "cell_type": "code",
   "execution_count": 19,
   "metadata": {
    "tags": []
   },
   "outputs": [
    {
     "data": {
      "text/plain": [
       "'415-555-4242'"
      ]
     },
     "execution_count": 19,
     "metadata": {},
     "output_type": "execute_result"
    }
   ],
   "source": [
    "# GThe first group is the phone number itself\n",
    "mo.group(0)"
   ]
  },
  {
   "cell_type": "code",
   "execution_count": 14,
   "metadata": {},
   "outputs": [
    {
     "data": {
      "text/plain": [
       "'415'"
      ]
     },
     "execution_count": 14,
     "metadata": {},
     "output_type": "execute_result"
    }
   ],
   "source": [
    "# group 1 shows us the area code\n",
    "mo.group(1)"
   ]
  },
  {
   "cell_type": "code",
   "execution_count": 15,
   "metadata": {},
   "outputs": [
    {
     "data": {
      "text/plain": [
       "'555-4242'"
      ]
     },
     "execution_count": 15,
     "metadata": {},
     "output_type": "execute_result"
    }
   ],
   "source": [
    "# group 2 is the second part\n",
    "mo.group(2)"
   ]
  },
  {
   "cell_type": "code",
   "execution_count": 16,
   "metadata": {},
   "outputs": [
    {
     "data": {
      "text/plain": [
       "'415-555-4242'"
      ]
     },
     "execution_count": 16,
     "metadata": {},
     "output_type": "execute_result"
    }
   ],
   "source": [
    "# without specifying which group we want, we get back the entire number\n",
    "mo.group()"
   ]
  },
  {
   "cell_type": "code",
   "execution_count": 20,
   "metadata": {
    "tags": []
   },
   "outputs": [],
   "source": [
    "# we need to define two variables if there are two different groups and we want to assign variables to each group\n",
    "area_code, main_number = mo.groups()"
   ]
  },
  {
   "cell_type": "code",
   "execution_count": 18,
   "metadata": {},
   "outputs": [
    {
     "name": "stdout",
     "output_type": "stream",
     "text": [
      "Area code is:  415 \n",
      " Main number:  555-4242\n"
     ]
    }
   ],
   "source": [
    "# f string and using the area code and the main number\n",
    "print(\"Area code is: \", area_code,\"\\n\", \"Main number: \", main_number)"
   ]
  },
  {
   "cell_type": "code",
   "execution_count": 21,
   "metadata": {
    "tags": []
   },
   "outputs": [],
   "source": [
    "poem = 'Some say the world will end in fire, Some say in ice.!!!....1234'"
   ]
  },
  {
   "cell_type": "code",
   "execution_count": 22,
   "metadata": {
    "tags": []
   },
   "outputs": [],
   "source": [
    "#remove all but alphanumeric characters from string\n",
    "# re.sub(\\W+) --> everyting that is not an alphabetic letter, disregards them (\\W: non-alphanumeric)\n",
    "# '+' specifies that the pattern should match one or more occurrences of such characters.\n",
    "# 1: drop it, 2: replaces with, 3: what are we applying it to (input string)\n",
    "# sub i substitution operation\n",
    "poem_no_punc=re.sub(r'\\W+', ' ', poem)"
   ]
  },
  {
   "cell_type": "code",
   "execution_count": 23,
   "metadata": {
    "tags": []
   },
   "outputs": [
    {
     "data": {
      "text/plain": [
       "'Some say the world will end in fire Some say in ice 1234'"
      ]
     },
     "execution_count": 23,
     "metadata": {},
     "output_type": "execute_result"
    }
   ],
   "source": [
    "poem_no_punc"
   ]
  },
  {
   "cell_type": "code",
   "execution_count": 24,
   "metadata": {
    "tags": []
   },
   "outputs": [],
   "source": [
    "# now, getting rid of digits\n",
    "# '+' specifies that the pattern should match one or more occurrences of such characters\n",
    "# we are taking the string that is already removed of punctuation\n",
    "poem_clean=re.sub(r'\\d', '', poem_no_punc)"
   ]
  },
  {
   "cell_type": "code",
   "execution_count": 25,
   "metadata": {
    "tags": []
   },
   "outputs": [
    {
     "data": {
      "text/plain": [
       "'Some say the world will end in fire Some say in ice '"
      ]
     },
     "execution_count": 25,
     "metadata": {},
     "output_type": "execute_result"
    }
   ],
   "source": [
    "poem_clean"
   ]
  },
  {
   "cell_type": "markdown",
   "metadata": {},
   "source": [
    "### References\n",
    "\n",
    "https://automatetheboringstuff.com/chapter7/\n",
    "\n",
    "https://pythex.org/"
   ]
  },
  {
   "cell_type": "markdown",
   "metadata": {},
   "source": [
    "# Intro to text-analysis:\n",
    "- Remove capitalization\n",
    "- Discard stopwords\n",
    "- Discard word order (Bag of Words Assumption)\n",
    "- Create equvalence class: Stem (chop the end of the word), Lemmatize (takes the root and transform it to something that has a meaning), or synonym\n",
    "     - If we want to detect spams, detecting insider tracking: when they talk about money inside the company\n",
    "     - Reduce dimensionality further: words used like family and familiar -> famili\n",
    "     - Stemming and lemmatizing algorithms: many-to-one mapping from words to stem/lemma\n",
    "     - Lemmatizing: condition of a word or speech and verifies that result is a word\n",
    "- Discard less useful features\n",
    "- Output: Count vector, each elmenent counts the word frequency\n",
    "- You may need to customize your stop words list\n",
    "    - Stemming takes less time, lemmatizing takes more time: word representations may not have any meaning\n",
    "    - Use stemming when meaning of words is not important\n",
    "    - Use lemmatization when meaning of words is important\n",
    "    \n",
    "# Bigrams, ngrams\n",
    "- Bigrams: consider words together\n",
    "- They increase dimensionality\n",
    "- New separately, York separately, but not New York altogether\n",
    "- Ngrams are combination of more than two or three words (!!!)\n"
   ]
  },
  {
   "cell_type": "code",
   "execution_count": 32,
   "metadata": {
    "tags": []
   },
   "outputs": [],
   "source": [
    "spam = \"\"\"Dear Recipient \\n\n",
    "We would like to call your attention to scammers and hackers that recently got into our system. \\n\n",
    "Please reply to this email to make sure you received this email and you are aware of the hacker attacks. \\n\n",
    "For further questions, please go to www.todayisagoodday.com. \\n\n",
    "Best regards, \\n\n",
    "Team G\"\"\""
   ]
  },
  {
   "cell_type": "code",
   "execution_count": 31,
   "metadata": {
    "tags": []
   },
   "outputs": [
    {
     "name": "stdout",
     "output_type": "stream",
     "text": [
      "Dear Recipient \n",
      "\n",
      "We would like to call your attention to scammers and hackers that recently got into our system. \n",
      "\n",
      "Please reply to this email to make sure you received this email and you are aware of the hacker attacks. \n",
      "\n",
      "For further questions, please go to (www.todayisagoodday.com). \n",
      "\n",
      "Best regards, \n",
      "\n",
      "Team G\n"
     ]
    }
   ],
   "source": [
    "print(spam)"
   ]
  },
  {
   "cell_type": "code",
   "execution_count": null,
   "metadata": {},
   "outputs": [],
   "source": []
  }
 ],
 "metadata": {
  "kernelspec": {
   "display_name": "Python 3 (ipykernel)",
   "language": "python",
   "name": "python3"
  },
  "language_info": {
   "codemirror_mode": {
    "name": "ipython",
    "version": 3
   },
   "file_extension": ".py",
   "mimetype": "text/x-python",
   "name": "python",
   "nbconvert_exporter": "python",
   "pygments_lexer": "ipython3",
   "version": "3.11.4"
  }
 },
 "nbformat": 4,
 "nbformat_minor": 4
}
